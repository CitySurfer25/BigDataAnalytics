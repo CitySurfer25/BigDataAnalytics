{
  "cells": [
    {
      "cell_type": "code",
      "execution_count": null,
      "id": "15a3b583",
      "metadata": {
        "id": "15a3b583"
      },
      "outputs": [],
      "source": [
        "myfile = open(\"weather_data.txt\")\n",
        "txt = myfile.read()"
      ]
    },
    {
      "cell_type": "code",
      "execution_count": null,
      "id": "86ff2aa5",
      "metadata": {
        "id": "86ff2aa5"
      },
      "outputs": [],
      "source": [
        "months = []\n",
        "min_temp = []\n",
        "max_temp = []"
      ]
    },
    {
      "cell_type": "code",
      "execution_count": null,
      "id": "c8860042",
      "metadata": {
        "id": "c8860042",
        "outputId": "404372dc-b1b5-4919-dfc5-c888dac5010d"
      },
      "outputs": [
        {
          "data": {
            "text/plain": [
              "['January',\n",
              " '-5',\n",
              " '5',\n",
              " '\\nFebruary',\n",
              " '-3',\n",
              " '8',\n",
              " '\\nMarch',\n",
              " '0',\n",
              " '12',\n",
              " '\\nApril',\n",
              " '5',\n",
              " '18',\n",
              " '\\nMay',\n",
              " '10',\n",
              " '22',\n",
              " '\\nJune',\n",
              " '15',\n",
              " '25',\n",
              " '\\nJuly',\n",
              " '18',\n",
              " '28',\n",
              " '\\nAugust',\n",
              " '17',\n",
              " '27',\n",
              " '\\nSeptember',\n",
              " '12',\n",
              " '23',\n",
              " '\\nOctober',\n",
              " '7',\n",
              " '17',\n",
              " '\\nNovember',\n",
              " '2',\n",
              " '10',\n",
              " '\\nDecember',\n",
              " '-2',\n",
              " '6',\n",
              " '']"
            ]
          },
          "execution_count": 12,
          "metadata": {},
          "output_type": "execute_result"
        }
      ],
      "source": [
        "total_list = txt.split(',')\n",
        "total_list"
      ]
    },
    {
      "cell_type": "code",
      "execution_count": null,
      "id": "052e9a12",
      "metadata": {
        "id": "052e9a12",
        "outputId": "2d96c9a1-a4ec-47e6-9f12-ba0c5756819b"
      },
      "outputs": [
        {
          "name": "stdout",
          "output_type": "stream",
          "text": [
            "Month with minimum temperature of -5 is January\n",
            "Month with maximum temperature of 28 is July\n"
          ]
        }
      ],
      "source": [
        "for i in range(len(total_list)):\n",
        "    if i % 3 == 0:\n",
        "        months.append(total_list[i].strip(\"\\n\"))\n",
        "    elif i % 3 == 1:\n",
        "        min_temp.append(int(total_list[i]))\n",
        "    else:\n",
        "        max_temp.append(int(total_list[i]))\n",
        "minimum = min(min_temp)\n",
        "maximum = max(max_temp)\n",
        "print(\"Month with minimum temperature of {t} is {m}\".format(t=minimum, m=months[min_temp.index(minimum)]))\n",
        "print(\"Month with maximum temperature of {t} is {m}\".format(t =maximum, m= months[max_temp.index(maximum)]))"
      ]
    }
  ],
  "metadata": {
    "kernelspec": {
      "display_name": "Python 3",
      "language": "python",
      "name": "python3"
    },
    "language_info": {
      "codemirror_mode": {
        "name": "ipython",
        "version": 3
      },
      "file_extension": ".py",
      "mimetype": "text/x-python",
      "name": "python",
      "nbconvert_exporter": "python",
      "pygments_lexer": "ipython3",
      "version": "3.8.8"
    },
    "colab": {
      "provenance": []
    }
  },
  "nbformat": 4,
  "nbformat_minor": 5
}