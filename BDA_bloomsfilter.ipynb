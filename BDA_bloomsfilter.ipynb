{
 "cells": [
  {
   "cell_type": "code",
   "execution_count": 3,
   "id": "48a8cf0a",
   "metadata": {},
   "outputs": [],
   "source": [
    "arr = [0 for _ in range(5)]"
   ]
  },
  {
   "cell_type": "code",
   "execution_count": 4,
   "id": "25b61954",
   "metadata": {},
   "outputs": [
    {
     "name": "stdout",
     "output_type": "stream",
     "text": [
      "9 10\n"
     ]
    }
   ],
   "source": [
    "ip = list(map(int,input().split()))\n"
   ]
  },
  {
   "cell_type": "code",
   "execution_count": 5,
   "id": "69eed92f",
   "metadata": {},
   "outputs": [],
   "source": [
    "def hashfunction(n):\n",
    "    h1 = n %5\n",
    "    h2 = (2*n + 3) %5\n",
    "    return h1,h2"
   ]
  },
  {
   "cell_type": "code",
   "execution_count": 6,
   "id": "555f487d",
   "metadata": {},
   "outputs": [],
   "source": [
    "def update(h1,h2):\n",
    "    arr[h1] = 1\n",
    "    arr[h2] = 1"
   ]
  },
  {
   "cell_type": "code",
   "execution_count": 7,
   "id": "da25d8ed",
   "metadata": {},
   "outputs": [],
   "source": [
    "for i in ip:\n",
    "    h1,h2 = hashfunction(i)\n",
    "    update(h1,h2)"
   ]
  },
  {
   "cell_type": "code",
   "execution_count": 8,
   "id": "6338807d",
   "metadata": {},
   "outputs": [
    {
     "name": "stdout",
     "output_type": "stream",
     "text": [
      "Enter count of numbers to check 2\n",
      "Enter number you want to check : 15\n",
      "False positive \n",
      "Enter number you want to check : 12\n",
      "Negative\n"
     ]
    }
   ],
   "source": [
    "t = int(input(\"Enter count of numbers to check \"));\n",
    "while t>0:\n",
    "    ans = int(input(\"Enter number you want to check : \"))\n",
    "    h1,h2 = hashfunction(ans)\n",
    "    if(arr[h1]==1 and arr[h2] ==1):\n",
    "        print(\"False positive \")\n",
    "    else:\n",
    "        print(\"Negative\")\n",
    "    t -= 1"
   ]
  },
  {
   "cell_type": "code",
   "execution_count": null,
   "id": "8cecc043",
   "metadata": {},
   "outputs": [],
   "source": []
  }
 ],
 "metadata": {
  "kernelspec": {
   "display_name": "Python 3 (ipykernel)",
   "language": "python",
   "name": "python3"
  },
  "language_info": {
   "codemirror_mode": {
    "name": "ipython",
    "version": 3
   },
   "file_extension": ".py",
   "mimetype": "text/x-python",
   "name": "python",
   "nbconvert_exporter": "python",
   "pygments_lexer": "ipython3",
   "version": "3.11.4"
  }
 },
 "nbformat": 4,
 "nbformat_minor": 5
}
