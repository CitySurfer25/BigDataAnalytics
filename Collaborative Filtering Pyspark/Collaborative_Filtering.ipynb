{
 "cells": [
  {
   "cell_type": "code",
   "execution_count": 1,
   "id": "eec7f633",
   "metadata": {},
   "outputs": [
    {
     "name": "stdout",
     "output_type": "stream",
     "text": [
      "Defaulting to user installation because normal site-packages is not writeable\n",
      "Requirement already satisfied: pyspark in c:\\users\\sastra\\appdata\\roaming\\python\\python311\\site-packages (3.5.2)\n",
      "Requirement already satisfied: py4j==0.10.9.7 in c:\\users\\sastra\\appdata\\roaming\\python\\python311\\site-packages (from pyspark) (0.10.9.7)\n",
      "Note: you may need to restart the kernel to use updated packages.\n"
     ]
    }
   ],
   "source": [
    "pip install pyspark"
   ]
  },
  {
   "cell_type": "code",
   "execution_count": 12,
   "id": "49964b92",
   "metadata": {},
   "outputs": [],
   "source": [
    "from pyspark.sql import SparkSession\n",
    "from pyspark.ml.recommendation import ALS\n",
    "from pyspark.ml.evaluation import RegressionEvaluator\n",
    "from pyspark.sql import Row"
   ]
  },
  {
   "cell_type": "code",
   "execution_count": 13,
   "id": "af83b72b",
   "metadata": {},
   "outputs": [],
   "source": [
    "spark = SparkSession.builder.appName(\"Recommender\").getOrCreate()"
   ]
  },
  {
   "cell_type": "code",
   "execution_count": 14,
   "id": "1f11d60f",
   "metadata": {},
   "outputs": [
    {
     "name": "stdout",
     "output_type": "stream",
     "text": [
      "+-------+-------+------+\n",
      "|book_id|user_id|rating|\n",
      "+-------+-------+------+\n",
      "|      1|    314|     5|\n",
      "|      1|    439|     3|\n",
      "|      1|    588|     5|\n",
      "|      1|   1169|     4|\n",
      "|      1|   1185|     4|\n",
      "+-------+-------+------+\n",
      "only showing top 5 rows\n",
      "\n"
     ]
    }
   ],
   "source": [
    "\n",
    "data = spark.read.csv('book_ratings.csv', \n",
    "                      inferSchema=True,header=True) \n",
    "  \n",
    "data.show(5)"
   ]
  },
  {
   "cell_type": "code",
   "execution_count": 15,
   "id": "d3a903f0",
   "metadata": {},
   "outputs": [
    {
     "name": "stdout",
     "output_type": "stream",
     "text": [
      "+-------+-----------------+------------------+------------------+\n",
      "|summary|          book_id|           user_id|            rating|\n",
      "+-------+-----------------+------------------+------------------+\n",
      "|  count|           981756|            981756|            981756|\n",
      "|   mean|4943.275635697668|25616.759933221696|3.8565335989797873|\n",
      "| stddev|2873.207414896143|15228.338825882149|0.9839408559619973|\n",
      "|    min|                1|                 1|                 1|\n",
      "|    max|            10000|             53424|                 5|\n",
      "+-------+-----------------+------------------+------------------+\n",
      "\n"
     ]
    }
   ],
   "source": [
    "data.describe().show()"
   ]
  },
  {
   "cell_type": "code",
   "execution_count": 16,
   "id": "79c05aef",
   "metadata": {},
   "outputs": [],
   "source": [
    "train_data, test_data = data.randomSplit([0.8, 0.2])"
   ]
  },
  {
   "cell_type": "code",
   "execution_count": 17,
   "id": "e630f03b",
   "metadata": {},
   "outputs": [],
   "source": [
    "als = ALS(maxIter=5, \n",
    "          regParam=0.01, \n",
    "          userCol=\"user_id\", \n",
    "          itemCol=\"book_id\", \n",
    "          ratingCol=\"rating\") \n",
    "  \n",
    "\n",
    "model = als.fit(train_data)"
   ]
  },
  {
   "cell_type": "code",
   "execution_count": 18,
   "id": "7bd089a5",
   "metadata": {},
   "outputs": [],
   "source": [
    "predictions = model.transform(test_data) "
   ]
  },
  {
   "cell_type": "code",
   "execution_count": 19,
   "id": "edb04aea",
   "metadata": {},
   "outputs": [
    {
     "name": "stdout",
     "output_type": "stream",
     "text": [
      "+-------+-------+------+----------+\n",
      "|book_id|user_id|rating|prediction|\n",
      "+-------+-------+------+----------+\n",
      "|      1|  12471|     5| 4.3827224|\n",
      "|      2|  15604|     4|  4.111163|\n",
      "|      2|  17984|     5| 4.4819336|\n",
      "|      2|  17566|     4| 4.0805535|\n",
      "|      1|  10140|     4| 3.4344268|\n",
      "|      1|  43985|     4|  3.960016|\n",
      "|      1|  33697|     4| 4.3076034|\n",
      "|      2|  10751|     3| 3.5920756|\n",
      "|      1|  21487|     4|  4.236959|\n",
      "|      2|  17643|     1| 3.3915699|\n",
      "|      1|  13282|     5| 4.5204687|\n",
      "|      1|   1169|     4| 3.7499666|\n",
      "|      2|   1169|     3| 3.4878473|\n",
      "|      1|  29123|     3| 2.5495992|\n",
      "|      1|  45493|     5|  4.790303|\n",
      "|      2|  10509|     2| 4.8685927|\n",
      "|      2|  11691|     4| 3.9240675|\n",
      "|      1|   7563|     3| 4.0731373|\n",
      "|      1|  22602|     4| 3.8647537|\n",
      "|      1|  47746|     5|  5.274465|\n",
      "+-------+-------+------+----------+\n",
      "only showing top 20 rows\n",
      "\n"
     ]
    }
   ],
   "source": [
    "predictions.show()"
   ]
  },
  {
   "cell_type": "code",
   "execution_count": 20,
   "id": "f2364eec",
   "metadata": {},
   "outputs": [
    {
     "name": "stdout",
     "output_type": "stream",
     "text": [
      "Root-mean-square error = nan\n"
     ]
    }
   ],
   "source": [
    "evaluator = RegressionEvaluator(metricName=\"rmse\", labelCol=\"rating\",predictionCol=\"prediction\") \n",
    "rmse = evaluator.evaluate(predictions) \n",
    "print(\"Root-mean-square error = \" + str(rmse))"
   ]
  },
  {
   "cell_type": "code",
   "execution_count": 21,
   "id": "37a67c3b",
   "metadata": {},
   "outputs": [
    {
     "name": "stdout",
     "output_type": "stream",
     "text": [
      "+-------+-------+\n",
      "|book_id|user_id|\n",
      "+-------+-------+\n",
      "|     10|   5461|\n",
      "|     15|   5461|\n",
      "|     38|   5461|\n",
      "|     43|   5461|\n",
      "|     46|   5461|\n",
      "|     47|   5461|\n",
      "|     55|   5461|\n",
      "|    117|   5461|\n",
      "|    121|   5461|\n",
      "|    130|   5461|\n",
      "|    142|   5461|\n",
      "|    180|   5461|\n",
      "|    186|   5461|\n",
      "|    198|   5461|\n",
      "|    273|   5461|\n",
      "|    293|   5461|\n",
      "|    354|   5461|\n",
      "|    357|   5461|\n",
      "|    361|   5461|\n",
      "|    375|   5461|\n",
      "+-------+-------+\n",
      "only showing top 20 rows\n",
      "\n"
     ]
    }
   ],
   "source": [
    "user1 = test_data.filter(test_data['user_id']==5461).select(['book_id','user_id']) \n",
    "  \n",
    " \n",
    "user1.show()"
   ]
  },
  {
   "cell_type": "code",
   "execution_count": 22,
   "id": "9a8b5a19",
   "metadata": {},
   "outputs": [
    {
     "name": "stdout",
     "output_type": "stream",
     "text": [
      "+-------+-------+----------+\n",
      "|book_id|user_id|prediction|\n",
      "+-------+-------+----------+\n",
      "|    561|   5461| 4.9864507|\n",
      "|    180|   5461| 4.9695415|\n",
      "|    669|   5461| 4.8601875|\n",
      "|     46|   5461| 4.8569736|\n",
      "|    117|   5461|  4.710736|\n",
      "|     43|   5461|  4.703219|\n",
      "|   1161|   5461| 4.6378455|\n",
      "|    357|   5461| 4.6254034|\n",
      "|     15|   5461| 4.5995684|\n",
      "|    998|   5461| 4.5749373|\n",
      "|     55|   5461|   4.56015|\n",
      "|     10|   5461| 4.5342503|\n",
      "|   1202|   5461|  4.523735|\n",
      "|     47|   5461| 4.4866805|\n",
      "|    293|   5461| 4.4724894|\n",
      "|    588|   5461| 4.4615493|\n",
      "|    798|   5461| 4.4566646|\n",
      "|    130|   5461|  4.345561|\n",
      "|    198|   5461|  4.288522|\n",
      "|    375|   5461| 4.2848024|\n",
      "+-------+-------+----------+\n",
      "only showing top 20 rows\n",
      "\n"
     ]
    }
   ],
   "source": [
    "recommendations = model.transform(user1) \n",
    "   \n",
    "recommendations.orderBy('prediction',ascending=False).show()"
   ]
  },
  {
   "cell_type": "code",
   "execution_count": 23,
   "id": "3cfa40d5",
   "metadata": {},
   "outputs": [],
   "source": [
    "spark.stop()"
   ]
  },
  {
   "cell_type": "code",
   "execution_count": null,
   "id": "b496b582",
   "metadata": {},
   "outputs": [],
   "source": []
  }
 ],
 "metadata": {
  "kernelspec": {
   "display_name": "Python 3 (ipykernel)",
   "language": "python",
   "name": "python3"
  },
  "language_info": {
   "codemirror_mode": {
    "name": "ipython",
    "version": 3
   },
   "file_extension": ".py",
   "mimetype": "text/x-python",
   "name": "python",
   "nbconvert_exporter": "python",
   "pygments_lexer": "ipython3",
   "version": "3.11.4"
  }
 },
 "nbformat": 4,
 "nbformat_minor": 5
}
