{
 "cells": [
  {
   "cell_type": "code",
   "execution_count": 2,
   "id": "8f25d40b",
   "metadata": {},
   "outputs": [],
   "source": [
    "def initialize_graph():\n",
    "   \n",
    "    graph = {\n",
    "        \"PageA\": [1.0, [\"PageB\", \"PageC\"]],\n",
    "        \"PageB\": [1.0, [\"PageC\"]],\n",
    "        \"PageC\": [1.0, [\"PageA\"]],\n",
    "        \n",
    "    }\n",
    "    return graph\n"
   ]
  },
  {
   "cell_type": "code",
   "execution_count": 3,
   "id": "cb204717",
   "metadata": {},
   "outputs": [],
   "source": [
    "\n",
    "def distribute_ranks(graph):\n",
    "   \n",
    "    contributions = {}\n",
    "    \n",
    "    for page, (rank, out_links) in graph.items():\n",
    "        if out_links:\n",
    "            distributed_rank = rank / len(out_links)\n",
    "            for link in out_links:\n",
    "                if link not in contributions:\n",
    "                    contributions[link] = 0\n",
    "                contributions[link] += distributed_rank\n",
    "\n",
    "    return contributions"
   ]
  },
  {
   "cell_type": "code",
   "execution_count": 4,
   "id": "6d0d70fa",
   "metadata": {},
   "outputs": [],
   "source": [
    "\n",
    "def update_ranks(graph, contributions, damping_factor, num_nodes):\n",
    "    \n",
    "    new_graph = {}\n",
    "    \n",
    "    for page in graph:\n",
    "        rank_from_contributions = contributions.get(page, 0)\n",
    "        new_rank = (1 - damping_factor) / num_nodes + damping_factor * rank_from_contributions\n",
    "        new_graph[page] = [new_rank, graph[page][1]]\n",
    "    \n",
    "    return new_graph\n"
   ]
  },
  {
   "cell_type": "code",
   "execution_count": 5,
   "id": "2f851f6c",
   "metadata": {},
   "outputs": [],
   "source": [
    "\n",
    "def run_pagerank(num_iterations=10, damping_factor=0.85):\n",
    "    \n",
    "    graph = initialize_graph()\n",
    "    num_nodes = len(graph)\n",
    "\n",
    "    for iteration in range(num_iterations):\n",
    "        contributions = distribute_ranks(graph)\n",
    "        graph = update_ranks(graph, contributions, damping_factor, num_nodes)\n",
    "\n",
    "        print(f\"Iteration {iteration + 1}:\")\n",
    "        for page, (rank, _) in graph.items():\n",
    "            print(f\"{page}: {rank:.4f}\")\n",
    "        print()\n",
    "\n",
    "    return graph"
   ]
  },
  {
   "cell_type": "code",
   "execution_count": 6,
   "id": "21228491",
   "metadata": {},
   "outputs": [
    {
     "name": "stdout",
     "output_type": "stream",
     "text": [
      "Iteration 1:\n",
      "PageA: 0.9000\n",
      "PageB: 0.4750\n",
      "PageC: 1.3250\n",
      "\n",
      "Iteration 2:\n",
      "PageA: 1.1763\n",
      "PageB: 0.4325\n",
      "PageC: 0.8363\n",
      "\n",
      "Iteration 3:\n",
      "PageA: 0.7608\n",
      "PageB: 0.5499\n",
      "PageC: 0.9175\n",
      "\n",
      "Iteration 4:\n",
      "PageA: 0.8299\n",
      "PageB: 0.3733\n",
      "PageC: 0.8408\n",
      "\n",
      "Iteration 5:\n",
      "PageA: 0.7647\n",
      "PageB: 0.4027\n",
      "PageC: 0.7201\n",
      "\n",
      "Iteration 6:\n",
      "PageA: 0.6620\n",
      "PageB: 0.3750\n",
      "PageC: 0.7173\n",
      "\n",
      "Iteration 7:\n",
      "PageA: 0.6597\n",
      "PageB: 0.3314\n",
      "PageC: 0.6501\n",
      "\n",
      "Iteration 8:\n",
      "PageA: 0.6026\n",
      "PageB: 0.3304\n",
      "PageC: 0.6120\n",
      "\n",
      "Iteration 9:\n",
      "PageA: 0.5702\n",
      "PageB: 0.3061\n",
      "PageC: 0.5869\n",
      "\n",
      "Iteration 10:\n",
      "PageA: 0.5489\n",
      "PageB: 0.2923\n",
      "PageC: 0.5525\n",
      "\n"
     ]
    }
   ],
   "source": [
    "if __name__ == \"__main__\":\n",
    "    final_ranks = run_pagerank(num_iterations=10)"
   ]
  },
  {
   "cell_type": "code",
   "execution_count": null,
   "id": "a12bfd1d",
   "metadata": {},
   "outputs": [],
   "source": []
  }
 ],
 "metadata": {
  "kernelspec": {
   "display_name": "Python 3 (ipykernel)",
   "language": "python",
   "name": "python3"
  },
  "language_info": {
   "codemirror_mode": {
    "name": "ipython",
    "version": 3
   },
   "file_extension": ".py",
   "mimetype": "text/x-python",
   "name": "python",
   "nbconvert_exporter": "python",
   "pygments_lexer": "ipython3",
   "version": "3.11.4"
  }
 },
 "nbformat": 4,
 "nbformat_minor": 5
}
