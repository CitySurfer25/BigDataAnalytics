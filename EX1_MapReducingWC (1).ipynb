{
 "cells": [
  {
   "cell_type": "code",
   "execution_count": 2,
   "id": "63a76078",
   "metadata": {},
   "outputs": [],
   "source": [
    "input= [\n",
    "    \"apple is a type of fruit.\",\n",
    "    \"apple is in red color\"\n",
    "]\n",
    "\n",
    "# Combine all input statements into a single string\n",
    "combined_input = ' '.join(input)\n",
    "\n",
    "# Split the combined input into words\n",
    "words = combined_input.split()"
   ]
  },
  {
   "cell_type": "code",
   "execution_count": 3,
   "id": "22281305",
   "metadata": {},
   "outputs": [],
   "source": [
    "def mapper(words):\n",
    "    word_count = {}\n",
    "    for word in words:\n",
    "        word_count[word] = word_count.get(word, 0) + 1\n",
    "    return word_count.items()"
   ]
  },
  {
   "cell_type": "code",
   "execution_count": 4,
   "id": "770f8a6c",
   "metadata": {},
   "outputs": [],
   "source": [
    "from collections import defaultdict\n",
    "\n",
    "def reducer(mapped_items):\n",
    "    word_count = defaultdict(int)\n",
    "    for item in mapped_items:\n",
    "        word, count = item\n",
    "        word_count[word] += count\n",
    "    return word_count.items()"
   ]
  },
  {
   "cell_type": "code",
   "execution_count": 5,
   "id": "799b51ec",
   "metadata": {},
   "outputs": [
    {
     "name": "stdout",
     "output_type": "stream",
     "text": [
      "apple: 2\n",
      "is: 2\n",
      "a: 1\n",
      "type: 1\n",
      "of: 1\n",
      "fruit.: 1\n",
      "in: 1\n",
      "red: 1\n",
      "color: 1\n"
     ]
    }
   ],
   "source": [
    "# Step 1: Map\n",
    "mapped_items = mapper(words)\n",
    "\n",
    "# Step 2: Reduce\n",
    "word_counts = reducer(mapped_items)\n",
    "\n",
    "# Print the result\n",
    "for word, count in word_counts:\n",
    "    print(f'{word}: {count}')"
   ]
  },
  {
   "cell_type": "code",
   "execution_count": null,
   "id": "871fa995",
   "metadata": {},
   "outputs": [],
   "source": []
  }
 ],
 "metadata": {
  "kernelspec": {
   "display_name": "Python 3",
   "language": "python",
   "name": "python3"
  },
  "language_info": {
   "codemirror_mode": {
    "name": "ipython",
    "version": 3
   },
   "file_extension": ".py",
   "mimetype": "text/x-python",
   "name": "python",
   "nbconvert_exporter": "python",
   "pygments_lexer": "ipython3",
   "version": "3.8.8"
  }
 },
 "nbformat": 4,
 "nbformat_minor": 5
}
